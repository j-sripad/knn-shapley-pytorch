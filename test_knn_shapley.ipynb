{
 "metadata": {
  "language_info": {
   "codemirror_mode": {
    "name": "ipython",
    "version": 3
   },
   "file_extension": ".py",
   "mimetype": "text/x-python",
   "name": "python",
   "nbconvert_exporter": "python",
   "pygments_lexer": "ipython3",
   "version": "3.6.9"
  },
  "orig_nbformat": 2,
  "kernelspec": {
   "name": "python369jvsc74a57bd0056347a60030f8f9b9442c371fd3ca64c2967efb58f734f9efc7453a6a292152",
   "display_name": "Python 3.6.9 64-bit ('env': virtualenv)"
  },
  "metadata": {
   "interpreter": {
    "hash": "056347a60030f8f9b9442c371fd3ca64c2967efb58f734f9efc7453a6a292152"
   }
  }
 },
 "nbformat": 4,
 "nbformat_minor": 2,
 "cells": [
  {
   "cell_type": "code",
   "execution_count": 1,
   "metadata": {
    "tags": [
     "outputPrepend"
    ]
   },
   "outputs": [
    {
     "output_type": "stream",
     "name": "stderr",
     "text": [
      "GPU available: True, used: True\n",
      "TPU available: False, using: 0 TPU cores\n",
      "LOCAL_RANK: 0 - CUDA_VISIBLE_DEVICES: [0]\n",
      "\n",
      "  | Name     | Type       | Params\n",
      "----------------------------------------\n",
      "0 | model    | ResNet     | 11.2 M\n",
      "1 | features | Sequential | 157 K \n",
      "----------------------------------------\n",
      "11.2 M    Trainable params\n",
      "0         Non-trainable params\n",
      "11.2 M    Total params\n",
      "44.710    Total estimated model params size (MB)\n"
     ]
    },
    {
     "output_type": "display_data",
     "data": {
      "text/plain": "Validation sanity check: 0it [00:00, ?it/s]",
      "application/vnd.jupyter.widget-view+json": {
       "version_major": 2,
       "version_minor": 0,
       "model_id": "a8048710bd824d80bf9ec01613794bf3"
      }
     },
     "metadata": {}
    },
    {
     "output_type": "display_data",
     "data": {
      "text/plain": "Training: 0it [00:00, ?it/s]",
      "application/vnd.jupyter.widget-view+json": {
       "version_major": 2,
       "version_minor": 0,
       "model_id": "973954c57697463fb8a446a97c04e2cb"
      }
     },
     "metadata": {}
    },
    {
     "output_type": "display_data",
     "data": {
      "text/plain": "Validating: 0it [00:00, ?it/s]",
      "application/vnd.jupyter.widget-view+json": {
       "version_major": 2,
       "version_minor": 0,
       "model_id": "65e70bbc900246e0942b37b20f53d73a"
      }
     },
     "metadata": {}
    },
    {
     "output_type": "display_data",
     "data": {
      "text/plain": "Validating: 0it [00:00, ?it/s]",
      "application/vnd.jupyter.widget-view+json": {
       "version_major": 2,
       "version_minor": 0,
       "model_id": "49e99695abbd45a1b2a0517354cbc05c"
      }
     },
     "metadata": {}
    },
    {
     "output_type": "display_data",
     "data": {
      "text/plain": "Validating: 0it [00:00, ?it/s]",
      "application/vnd.jupyter.widget-view+json": {
       "version_major": 2,
       "version_minor": 0,
       "model_id": "0c610f6d17894b2387cd1498f9ddd680"
      }
     },
     "metadata": {}
    },
    {
     "output_type": "display_data",
     "data": {
      "text/plain": "Validating: 0it [00:00, ?it/s]",
      "application/vnd.jupyter.widget-view+json": {
       "version_major": 2,
       "version_minor": 0,
       "model_id": "c8915a5ba0364e5cae11eaadabe8eabd"
      }
     },
     "metadata": {}
    },
    {
     "output_type": "display_data",
     "data": {
      "text/plain": "Validating: 0it [00:00, ?it/s]",
      "application/vnd.jupyter.widget-view+json": {
       "version_major": 2,
       "version_minor": 0,
       "model_id": "6d8071fa345742398ed3a6004bc637df"
      }
     },
     "metadata": {}
    },
    {
     "output_type": "display_data",
     "data": {
      "text/plain": "Validating: 0it [00:00, ?it/s]",
      "application/vnd.jupyter.widget-view+json": {
       "version_major": 2,
       "version_minor": 0,
       "model_id": "7c0e4519a1f8496ba421979aeb76782a"
      }
     },
     "metadata": {}
    },
    {
     "output_type": "display_data",
     "data": {
      "text/plain": "Validating: 0it [00:00, ?it/s]",
      "application/vnd.jupyter.widget-view+json": {
       "version_major": 2,
       "version_minor": 0,
       "model_id": "46bf8a4b140140b58950305ed9b75518"
      }
     },
     "metadata": {}
    },
    {
     "output_type": "display_data",
     "data": {
      "text/plain": "Validating: 0it [00:00, ?it/s]",
      "application/vnd.jupyter.widget-view+json": {
       "version_major": 2,
       "version_minor": 0,
       "model_id": "171dd112ab164bb3afe6ed1f1e11274c"
      }
     },
     "metadata": {}
    },
    {
     "output_type": "display_data",
     "data": {
      "text/plain": "Validating: 0it [00:00, ?it/s]",
      "application/vnd.jupyter.widget-view+json": {
       "version_major": 2,
       "version_minor": 0,
       "model_id": "9e6c2839f77d4e3cae5e51501f5370dd"
      }
     },
     "metadata": {}
    },
    {
     "output_type": "display_data",
     "data": {
      "text/plain": "Validating: 0it [00:00, ?it/s]",
      "application/vnd.jupyter.widget-view+json": {
       "version_major": 2,
       "version_minor": 0,
       "model_id": "53b8a04e83b24b5ab5ff40d04dd33b30"
      }
     },
     "metadata": {}
    },
    {
     "output_type": "stream",
     "name": "stderr",
     "text": [
      "ain Inference:  50%|█████     | 16/32 [00:00<00:00, 20.62it/s]\u001b[A\n",
      "Train Inference:  59%|█████▉    | 19/32 [00:01<00:00, 21.21it/s]\u001b[A\n",
      "Train Inference:  69%|██████▉   | 22/32 [00:01<00:00, 21.63it/s]\u001b[A\n",
      "Train Inference:  78%|███████▊  | 25/32 [00:01<00:00, 22.68it/s]\u001b[A\n",
      "Train Inference:  88%|████████▊ | 28/32 [00:01<00:00, 24.31it/s]\u001b[A\n",
      "Train Inference: 100%|██████████| 32/32 [00:01<00:00, 19.67it/s]\n",
      " 77%|███████▋  | 77/100 [02:13<00:40,  1.77s/it]\n",
      "Train Inference:   0%|          | 0/32 [00:00<?, ?it/s]\u001b[A\n",
      "Train Inference:   3%|▎         | 1/32 [00:00<00:08,  3.57it/s]\u001b[A\n",
      "Train Inference:  12%|█▎        | 4/32 [00:00<00:02, 11.62it/s]\u001b[A\n",
      "Train Inference:  22%|██▏       | 7/32 [00:00<00:01, 16.36it/s]\u001b[A\n",
      "Train Inference:  31%|███▏      | 10/32 [00:00<00:01, 19.11it/s]\u001b[A\n",
      "Train Inference:  41%|████      | 13/32 [00:00<00:00, 20.65it/s]\u001b[A\n",
      "Train Inference:  50%|█████     | 16/32 [00:00<00:00, 21.38it/s]\u001b[A\n",
      "Train Inference:  59%|█████▉    | 19/32 [00:01<00:00, 21.71it/s]\u001b[A\n",
      "Train Inference:  69%|██████▉   | 22/32 [00:01<00:00, 21.97it/s]\u001b[A\n",
      "Train Inference:  78%|███████▊  | 25/32 [00:01<00:00, 22.94it/s]\u001b[A\n",
      "Train Inference:  88%|████████▊ | 28/32 [00:01<00:00, 23.97it/s]\u001b[A\n",
      "Train Inference: 100%|██████████| 32/32 [00:01<00:00, 19.69it/s]\n",
      " 78%|███████▊  | 78/100 [02:14<00:38,  1.77s/it]\n",
      "Train Inference:   0%|          | 0/32 [00:00<?, ?it/s]\u001b[A\n",
      "Train Inference:   3%|▎         | 1/32 [00:00<00:08,  3.76it/s]\u001b[A\n",
      "Train Inference:  12%|█▎        | 4/32 [00:00<00:02, 11.35it/s]\u001b[A\n",
      "Train Inference:  22%|██▏       | 7/32 [00:00<00:01, 16.00it/s]\u001b[A\n",
      "Train Inference:  31%|███▏      | 10/32 [00:00<00:01, 18.39it/s]\u001b[A\n",
      "Train Inference:  41%|████      | 13/32 [00:00<00:00, 19.87it/s]\u001b[A\n",
      "Train Inference:  50%|█████     | 16/32 [00:00<00:00, 20.73it/s]\u001b[A\n",
      "Train Inference:  59%|█████▉    | 19/32 [00:01<00:00, 21.40it/s]\u001b[A\n",
      "Train Inference:  69%|██████▉   | 22/32 [00:01<00:00, 21.83it/s]\u001b[A\n",
      "Train Inference:  78%|███████▊  | 25/32 [00:01<00:00, 21.90it/s]\u001b[A\n",
      "Train Inference:  88%|████████▊ | 28/32 [00:01<00:00, 23.24it/s]\u001b[A\n",
      "Train Inference: 100%|██████████| 32/32 [00:01<00:00, 19.24it/s]\n",
      " 79%|███████▉  | 79/100 [02:16<00:37,  1.78s/it]\n",
      "Train Inference:   0%|          | 0/32 [00:00<?, ?it/s]\u001b[A\n",
      "Train Inference:   3%|▎         | 1/32 [00:00<00:09,  3.36it/s]\u001b[A\n",
      "Train Inference:  12%|█▎        | 4/32 [00:00<00:02, 11.22it/s]\u001b[A\n",
      "Train Inference:  22%|██▏       | 7/32 [00:00<00:01, 15.73it/s]\u001b[A\n",
      "Train Inference:  31%|███▏      | 10/32 [00:00<00:01, 18.65it/s]\u001b[A\n",
      "Train Inference:  41%|████      | 13/32 [00:00<00:00, 20.58it/s]\u001b[A\n",
      "Train Inference:  50%|█████     | 16/32 [00:00<00:00, 21.43it/s]\u001b[A\n",
      "Train Inference:  59%|█████▉    | 19/32 [00:01<00:00, 21.69it/s]\u001b[A\n",
      "Train Inference:  69%|██████▉   | 22/32 [00:01<00:00, 22.36it/s]\u001b[A\n",
      "Train Inference:  78%|███████▊  | 25/32 [00:01<00:00, 23.21it/s]\u001b[A\n",
      "Train Inference:  88%|████████▊ | 28/32 [00:01<00:00, 24.90it/s]\u001b[A\n",
      "Train Inference: 100%|██████████| 32/32 [00:01<00:00, 19.79it/s]\n",
      " 80%|████████  | 80/100 [02:18<00:35,  1.77s/it]\n",
      "Train Inference:   0%|          | 0/32 [00:00<?, ?it/s]\u001b[A\n",
      "Train Inference:   3%|▎         | 1/32 [00:00<00:08,  3.46it/s]\u001b[A\n",
      "Train Inference:  12%|█▎        | 4/32 [00:00<00:02, 11.48it/s]\u001b[A\n",
      "Train Inference:  22%|██▏       | 7/32 [00:00<00:01, 16.39it/s]\u001b[A\n",
      "Train Inference:  31%|███▏      | 10/32 [00:00<00:01, 19.08it/s]\u001b[A\n",
      "Train Inference:  41%|████      | 13/32 [00:00<00:00, 20.66it/s]\u001b[A\n",
      "Train Inference:  50%|█████     | 16/32 [00:00<00:00, 21.18it/s]\u001b[A\n",
      "Train Inference:  59%|█████▉    | 19/32 [00:01<00:00, 21.68it/s]\u001b[A\n",
      "Train Inference:  69%|██████▉   | 22/32 [00:01<00:00, 21.91it/s]\u001b[A\n",
      "Train Inference:  78%|███████▊  | 25/32 [00:01<00:00, 22.59it/s]\u001b[A\n",
      "Train Inference:  88%|████████▊ | 28/32 [00:01<00:00, 23.50it/s]\u001b[A\n",
      "Train Inference: 100%|██████████| 32/32 [00:01<00:00, 19.71it/s]\n",
      " 81%|████████  | 81/100 [02:20<00:33,  1.77s/it]\n",
      "Train Inference:   0%|          | 0/32 [00:00<?, ?it/s]\u001b[A\n",
      "Train Inference:   3%|▎         | 1/32 [00:00<00:09,  3.41it/s]\u001b[A\n",
      "Train Inference:  12%|█▎        | 4/32 [00:00<00:02, 11.19it/s]\u001b[A\n",
      "Train Inference:  22%|██▏       | 7/32 [00:00<00:01, 15.86it/s]\u001b[A\n",
      "Train Inference:  31%|███▏      | 10/32 [00:00<00:01, 18.71it/s]\u001b[A\n",
      "Train Inference:  41%|████      | 13/32 [00:00<00:00, 20.44it/s]\u001b[A\n",
      "Train Inference:  50%|█████     | 16/32 [00:00<00:00, 21.16it/s]\u001b[A\n",
      "Train Inference:  59%|█████▉    | 19/32 [00:01<00:00, 21.88it/s]\u001b[A\n",
      "Train Inference:  69%|██████▉   | 22/32 [00:01<00:00, 22.16it/s]\u001b[A\n",
      "Train Inference:  78%|███████▊  | 25/32 [00:01<00:00, 22.77it/s]\u001b[A\n",
      "Train Inference:  88%|████████▊ | 28/32 [00:01<00:00, 24.08it/s]\u001b[A\n",
      "Train Inference: 100%|██████████| 32/32 [00:01<00:00, 19.73it/s]\n",
      " 82%|████████▏ | 82/100 [02:21<00:31,  1.77s/it]\n",
      "Train Inference:   0%|          | 0/32 [00:00<?, ?it/s]\u001b[A\n",
      "Train Inference:   3%|▎         | 1/32 [00:00<00:09,  3.41it/s]\u001b[A\n",
      "Train Inference:  12%|█▎        | 4/32 [00:00<00:02, 11.01it/s]\u001b[A\n",
      "Train Inference:  22%|██▏       | 7/32 [00:00<00:01, 15.71it/s]\u001b[A\n",
      "Train Inference:  31%|███▏      | 10/32 [00:00<00:01, 18.32it/s]\u001b[A\n",
      "Train Inference:  41%|████      | 13/32 [00:00<00:00, 19.96it/s]\u001b[A\n",
      "Train Inference:  50%|█████     | 16/32 [00:00<00:00, 20.78it/s]\u001b[A\n",
      "Train Inference:  59%|█████▉    | 19/32 [00:01<00:00, 21.28it/s]\u001b[A\n",
      "Train Inference:  69%|██████▉   | 22/32 [00:01<00:00, 21.47it/s]\u001b[A\n",
      "Train Inference:  78%|███████▊  | 25/32 [00:01<00:00, 22.05it/s]\u001b[A\n",
      "Train Inference:  88%|████████▊ | 28/32 [00:01<00:00, 23.07it/s]\u001b[A\n",
      "Train Inference: 100%|██████████| 32/32 [00:01<00:00, 19.43it/s]\n",
      " 83%|████████▎ | 83/100 [02:23<00:30,  1.77s/it]\n",
      "Train Inference:   0%|          | 0/32 [00:00<?, ?it/s]\u001b[A\n",
      "Train Inference:   3%|▎         | 1/32 [00:00<00:09,  3.40it/s]\u001b[A\n",
      "Train Inference:  12%|█▎        | 4/32 [00:00<00:02, 11.32it/s]\u001b[A\n",
      "Train Inference:  22%|██▏       | 7/32 [00:00<00:01, 16.04it/s]\u001b[A\n",
      "Train Inference:  31%|███▏      | 10/32 [00:00<00:01, 18.52it/s]\u001b[A\n",
      "Train Inference:  41%|████      | 13/32 [00:00<00:00, 20.24it/s]\u001b[A\n",
      "Train Inference:  50%|█████     | 16/32 [00:00<00:00, 21.02it/s]\u001b[A\n",
      "Train Inference:  59%|█████▉    | 19/32 [00:01<00:00, 21.65it/s]\u001b[A\n",
      "Train Inference:  69%|██████▉   | 22/32 [00:01<00:00, 22.04it/s]\u001b[A\n",
      "Train Inference:  78%|███████▊  | 25/32 [00:01<00:00, 22.35it/s]\u001b[A\n",
      "Train Inference:  88%|████████▊ | 28/32 [00:01<00:00, 23.24it/s]\u001b[A\n",
      "Train Inference: 100%|██████████| 32/32 [00:01<00:00, 19.48it/s]\n",
      " 84%|████████▍ | 84/100 [02:25<00:28,  1.77s/it]\n",
      "Train Inference:   0%|          | 0/32 [00:00<?, ?it/s]\u001b[A\n",
      "Train Inference:   3%|▎         | 1/32 [00:00<00:09,  3.33it/s]\u001b[A\n",
      "Train Inference:  12%|█▎        | 4/32 [00:00<00:02, 10.95it/s]\u001b[A\n",
      "Train Inference:  22%|██▏       | 7/32 [00:00<00:01, 15.68it/s]\u001b[A\n",
      "Train Inference:  31%|███▏      | 10/32 [00:00<00:01, 18.50it/s]\u001b[A\n",
      "Train Inference:  41%|████      | 13/32 [00:00<00:00, 19.97it/s]\u001b[A\n",
      "Train Inference:  50%|█████     | 16/32 [00:00<00:00, 20.92it/s]\u001b[A\n",
      "Train Inference:  59%|█████▉    | 19/32 [00:01<00:00, 21.32it/s]\u001b[A\n",
      "Train Inference:  69%|██████▉   | 22/32 [00:01<00:00, 21.55it/s]\u001b[A\n",
      "Train Inference:  78%|███████▊  | 25/32 [00:01<00:00, 22.07it/s]\u001b[A\n",
      "Train Inference:  88%|████████▊ | 28/32 [00:01<00:00, 23.19it/s]\u001b[A\n",
      "Train Inference: 100%|██████████| 32/32 [00:01<00:00, 19.33it/s]\n",
      " 85%|████████▌ | 85/100 [02:27<00:26,  1.78s/it]\n",
      "Train Inference:   0%|          | 0/32 [00:00<?, ?it/s]\u001b[A\n",
      "Train Inference:   3%|▎         | 1/32 [00:00<00:07,  3.95it/s]\u001b[A\n",
      "Train Inference:   9%|▉         | 3/32 [00:00<00:03,  9.29it/s]\u001b[A\n",
      "Train Inference:  19%|█▉        | 6/32 [00:00<00:01, 15.20it/s]\u001b[A\n",
      "Train Inference:  28%|██▊       | 9/32 [00:00<00:01, 18.72it/s]\u001b[A\n",
      "Train Inference:  38%|███▊      | 12/32 [00:00<00:00, 20.63it/s]\u001b[A\n",
      "Train Inference:  47%|████▋     | 15/32 [00:00<00:00, 21.48it/s]\u001b[A\n",
      "Train Inference:  56%|█████▋    | 18/32 [00:00<00:00, 21.68it/s]\u001b[A\n",
      "Train Inference:  66%|██████▌   | 21/32 [00:01<00:00, 21.82it/s]\u001b[A\n",
      "Train Inference:  75%|███████▌  | 24/32 [00:01<00:00, 22.19it/s]\u001b[A\n",
      "Train Inference:  84%|████████▍ | 27/32 [00:01<00:00, 23.55it/s]\u001b[A\n",
      "Train Inference: 100%|██████████| 32/32 [00:01<00:00, 19.72it/s]\n",
      " 86%|████████▌ | 86/100 [02:29<00:24,  1.77s/it]\n",
      "Train Inference:   0%|          | 0/32 [00:00<?, ?it/s]\u001b[A\n",
      "Train Inference:   3%|▎         | 1/32 [00:00<00:09,  3.32it/s]\u001b[A\n",
      "Train Inference:  12%|█▎        | 4/32 [00:00<00:02, 11.18it/s]\u001b[A\n",
      "Train Inference:  22%|██▏       | 7/32 [00:00<00:01, 15.74it/s]\u001b[A\n",
      "Train Inference:  31%|███▏      | 10/32 [00:00<00:01, 18.25it/s]\u001b[A\n",
      "Train Inference:  41%|████      | 13/32 [00:00<00:00, 20.01it/s]\u001b[A\n",
      "Train Inference:  50%|█████     | 16/32 [00:00<00:00, 20.80it/s]\u001b[A\n",
      "Train Inference:  59%|█████▉    | 19/32 [00:01<00:00, 21.20it/s]\u001b[A\n",
      "Train Inference:  69%|██████▉   | 22/32 [00:01<00:00, 21.33it/s]\u001b[A\n",
      "Train Inference:  78%|███████▊  | 25/32 [00:01<00:00, 22.20it/s]\u001b[A\n",
      "Train Inference:  88%|████████▊ | 28/32 [00:01<00:00, 23.41it/s]\u001b[A\n",
      "Train Inference: 100%|██████████| 32/32 [00:01<00:00, 19.16it/s]\n",
      " 87%|████████▋ | 87/100 [02:30<00:23,  1.78s/it]\n",
      "Train Inference:   0%|          | 0/32 [00:00<?, ?it/s]\u001b[A\n",
      "Train Inference:   3%|▎         | 1/32 [00:00<00:09,  3.24it/s]\u001b[A\n",
      "Train Inference:  12%|█▎        | 4/32 [00:00<00:02, 10.87it/s]\u001b[A\n",
      "Train Inference:  22%|██▏       | 7/32 [00:00<00:01, 15.67it/s]\u001b[A\n",
      "Train Inference:  31%|███▏      | 10/32 [00:00<00:01, 18.53it/s]\u001b[A\n",
      "Train Inference:  41%|████      | 13/32 [00:00<00:00, 20.23it/s]\u001b[A\n",
      "Train Inference:  50%|█████     | 16/32 [00:00<00:00, 21.23it/s]\u001b[A\n",
      "Train Inference:  59%|█████▉    | 19/32 [00:01<00:00, 21.63it/s]\u001b[A\n",
      "Train Inference:  69%|██████▉   | 22/32 [00:01<00:00, 21.90it/s]\u001b[A\n",
      "Train Inference:  78%|███████▊  | 25/32 [00:01<00:00, 22.59it/s]\u001b[A\n",
      "Train Inference:  88%|████████▊ | 28/32 [00:01<00:00, 23.50it/s]\u001b[A\n",
      "Train Inference: 100%|██████████| 32/32 [00:01<00:00, 19.22it/s]\n",
      " 88%|████████▊ | 88/100 [02:32<00:21,  1.79s/it]\n",
      "Train Inference:   0%|          | 0/32 [00:00<?, ?it/s]\u001b[A\n",
      "Train Inference:   3%|▎         | 1/32 [00:00<00:09,  3.40it/s]\u001b[A\n",
      "Train Inference:  12%|█▎        | 4/32 [00:00<00:02, 11.15it/s]\u001b[A\n",
      "Train Inference:  22%|██▏       | 7/32 [00:00<00:01, 15.90it/s]\u001b[A\n",
      "Train Inference:  31%|███▏      | 10/32 [00:00<00:01, 18.75it/s]\u001b[A\n",
      "Train Inference:  41%|████      | 13/32 [00:00<00:00, 20.45it/s]\u001b[A\n",
      "Train Inference:  50%|█████     | 16/32 [00:00<00:00, 20.94it/s]\u001b[A\n",
      "Train Inference:  59%|█████▉    | 19/32 [00:01<00:00, 21.63it/s]\u001b[A\n",
      "Train Inference:  69%|██████▉   | 22/32 [00:01<00:00, 21.49it/s]\u001b[A\n",
      "Train Inference:  78%|███████▊  | 25/32 [00:01<00:00, 21.94it/s]\u001b[A\n",
      "Train Inference:  88%|████████▊ | 28/32 [00:01<00:00, 23.13it/s]\u001b[A\n",
      "Train Inference: 100%|██████████| 32/32 [00:01<00:00, 19.31it/s]\n",
      " 89%|████████▉ | 89/100 [02:34<00:19,  1.79s/it]\n",
      "Train Inference:   0%|          | 0/32 [00:00<?, ?it/s]\u001b[A\n",
      "Train Inference:   3%|▎         | 1/32 [00:00<00:07,  4.15it/s]\u001b[A\n",
      "Train Inference:   9%|▉         | 3/32 [00:00<00:03,  9.38it/s]\u001b[A\n",
      "Train Inference:  19%|█▉        | 6/32 [00:00<00:01, 15.16it/s]\u001b[A\n",
      "Train Inference:  28%|██▊       | 9/32 [00:00<00:01, 18.48it/s]\u001b[A\n",
      "Train Inference:  38%|███▊      | 12/32 [00:00<00:00, 20.26it/s]\u001b[A\n",
      "Train Inference:  47%|████▋     | 15/32 [00:00<00:00, 21.13it/s]\u001b[A\n",
      "Train Inference:  56%|█████▋    | 18/32 [00:00<00:00, 21.51it/s]\u001b[A\n",
      "Train Inference:  66%|██████▌   | 21/32 [00:01<00:00, 21.77it/s]\u001b[A\n",
      "Train Inference:  75%|███████▌  | 24/32 [00:01<00:00, 22.09it/s]\u001b[A\n",
      "Train Inference:  84%|████████▍ | 27/32 [00:01<00:00, 23.24it/s]\u001b[A\n",
      "Train Inference: 100%|██████████| 32/32 [00:01<00:00, 19.50it/s]\n",
      " 90%|█████████ | 90/100 [02:36<00:17,  1.79s/it]\n",
      "Train Inference:   0%|          | 0/32 [00:00<?, ?it/s]\u001b[A\n",
      "Train Inference:   3%|▎         | 1/32 [00:00<00:08,  3.70it/s]\u001b[A\n",
      "Train Inference:   9%|▉         | 3/32 [00:00<00:03,  9.33it/s]\u001b[A\n",
      "Train Inference:  19%|█▉        | 6/32 [00:00<00:01, 15.17it/s]\u001b[A\n",
      "Train Inference:  28%|██▊       | 9/32 [00:00<00:01, 18.36it/s]\u001b[A\n",
      "Train Inference:  38%|███▊      | 12/32 [00:00<00:01, 19.74it/s]\u001b[A\n",
      "Train Inference:  47%|████▋     | 15/32 [00:00<00:00, 20.68it/s]\u001b[A\n",
      "Train Inference:  56%|█████▋    | 18/32 [00:01<00:00, 21.32it/s]\u001b[A\n",
      "Train Inference:  66%|██████▌   | 21/32 [00:01<00:00, 21.61it/s]\u001b[A\n",
      "Train Inference:  75%|███████▌  | 24/32 [00:01<00:00, 22.20it/s]\u001b[A\n",
      "Train Inference:  84%|████████▍ | 27/32 [00:01<00:00, 23.23it/s]\u001b[A\n",
      "Train Inference: 100%|██████████| 32/32 [00:01<00:00, 19.37it/s]\n",
      " 91%|█████████ | 91/100 [02:38<00:16,  1.79s/it]\n",
      "Train Inference:   0%|          | 0/32 [00:00<?, ?it/s]\u001b[A\n",
      "Train Inference:   3%|▎         | 1/32 [00:00<00:08,  3.47it/s]\u001b[A\n",
      "Train Inference:  12%|█▎        | 4/32 [00:00<00:02, 11.51it/s]\u001b[A\n",
      "Train Inference:  22%|██▏       | 7/32 [00:00<00:01, 16.31it/s]\u001b[A\n",
      "Train Inference:  31%|███▏      | 10/32 [00:00<00:01, 19.30it/s]\u001b[A\n",
      "Train Inference:  41%|████      | 13/32 [00:00<00:00, 20.82it/s]\u001b[A\n",
      "Train Inference:  50%|█████     | 16/32 [00:00<00:00, 21.58it/s]\u001b[A\n",
      "Train Inference:  59%|█████▉    | 19/32 [00:01<00:00, 21.69it/s]\u001b[A\n",
      "Train Inference:  69%|██████▉   | 22/32 [00:01<00:00, 22.14it/s]\u001b[A\n",
      "Train Inference:  78%|███████▊  | 25/32 [00:01<00:00, 22.40it/s]\u001b[A\n",
      "Train Inference:  88%|████████▊ | 28/32 [00:01<00:00, 23.78it/s]\u001b[A\n",
      "Train Inference: 100%|██████████| 32/32 [00:01<00:00, 19.48it/s]\n",
      " 92%|█████████▏| 92/100 [02:39<00:14,  1.78s/it]\n",
      "Train Inference:   0%|          | 0/32 [00:00<?, ?it/s]\u001b[A\n",
      "Train Inference:   3%|▎         | 1/32 [00:00<00:09,  3.36it/s]\u001b[A\n",
      "Train Inference:  12%|█▎        | 4/32 [00:00<00:02, 11.09it/s]\u001b[A\n",
      "Train Inference:  22%|██▏       | 7/32 [00:00<00:01, 15.69it/s]\u001b[A\n",
      "Train Inference:  31%|███▏      | 10/32 [00:00<00:01, 18.40it/s]\u001b[A\n",
      "Train Inference:  41%|████      | 13/32 [00:00<00:00, 19.89it/s]\u001b[A\n",
      "Train Inference:  50%|█████     | 16/32 [00:00<00:00, 20.88it/s]\u001b[A\n",
      "Train Inference:  59%|█████▉    | 19/32 [00:01<00:00, 21.38it/s]\u001b[A\n",
      "Train Inference:  69%|██████▉   | 22/32 [00:01<00:00, 21.35it/s]\u001b[A\n",
      "Train Inference:  78%|███████▊  | 25/32 [00:01<00:00, 21.77it/s]\u001b[A\n",
      "Train Inference:  88%|████████▊ | 28/32 [00:01<00:00, 22.75it/s]\u001b[A\n",
      "Train Inference: 100%|██████████| 32/32 [00:01<00:00, 18.86it/s]\n",
      " 93%|█████████▎| 93/100 [02:41<00:12,  1.80s/it]\n",
      "Train Inference:   0%|          | 0/32 [00:00<?, ?it/s]\u001b[A\n",
      "Train Inference:   3%|▎         | 1/32 [00:00<00:08,  3.50it/s]\u001b[A\n",
      "Train Inference:  12%|█▎        | 4/32 [00:00<00:02, 11.41it/s]\u001b[A\n",
      "Train Inference:  22%|██▏       | 7/32 [00:00<00:01, 15.83it/s]\u001b[A\n",
      "Train Inference:  31%|███▏      | 10/32 [00:00<00:01, 18.68it/s]\u001b[A\n",
      "Train Inference:  41%|████      | 13/32 [00:00<00:00, 20.38it/s]\u001b[A\n",
      "Train Inference:  50%|█████     | 16/32 [00:00<00:00, 21.23it/s]\u001b[A\n",
      "Train Inference:  59%|█████▉    | 19/32 [00:01<00:00, 21.58it/s]\u001b[A\n",
      "Train Inference:  69%|██████▉   | 22/32 [00:01<00:00, 21.79it/s]\u001b[A\n",
      "Train Inference:  78%|███████▊  | 25/32 [00:01<00:00, 22.77it/s]\u001b[A\n",
      "Train Inference:  88%|████████▊ | 28/32 [00:01<00:00, 24.14it/s]\u001b[A\n",
      "Train Inference: 100%|██████████| 32/32 [00:01<00:00, 19.57it/s]\n",
      " 94%|█████████▍| 94/100 [02:43<00:10,  1.79s/it]\n",
      "Train Inference:   0%|          | 0/32 [00:00<?, ?it/s]\u001b[A\n",
      "Train Inference:   3%|▎         | 1/32 [00:00<00:09,  3.36it/s]\u001b[A\n",
      "Train Inference:  12%|█▎        | 4/32 [00:00<00:02, 11.18it/s]\u001b[A\n",
      "Train Inference:  22%|██▏       | 7/32 [00:00<00:01, 16.06it/s]\u001b[A\n",
      "Train Inference:  31%|███▏      | 10/32 [00:00<00:01, 18.73it/s]\u001b[A\n",
      "Train Inference:  41%|████      | 13/32 [00:00<00:00, 20.20it/s]\u001b[A\n",
      "Train Inference:  50%|█████     | 16/32 [00:00<00:00, 21.14it/s]\u001b[A\n",
      "Train Inference:  59%|█████▉    | 19/32 [00:01<00:00, 21.71it/s]\u001b[A\n",
      "Train Inference:  69%|██████▉   | 22/32 [00:01<00:00, 21.69it/s]\u001b[A\n",
      "Train Inference:  78%|███████▊  | 25/32 [00:01<00:00, 22.38it/s]\u001b[A\n",
      "Train Inference:  88%|████████▊ | 28/32 [00:01<00:00, 23.30it/s]\u001b[A\n",
      "Train Inference: 100%|██████████| 32/32 [00:01<00:00, 19.29it/s]\n",
      " 95%|█████████▌| 95/100 [02:45<00:08,  1.79s/it]\n",
      "Train Inference:   0%|          | 0/32 [00:00<?, ?it/s]\u001b[A\n",
      "Train Inference:   3%|▎         | 1/32 [00:00<00:09,  3.43it/s]\u001b[A\n",
      "Train Inference:  12%|█▎        | 4/32 [00:00<00:02, 11.40it/s]\u001b[A\n",
      "Train Inference:  22%|██▏       | 7/32 [00:00<00:01, 16.33it/s]\u001b[A\n",
      "Train Inference:  31%|███▏      | 10/32 [00:00<00:01, 18.86it/s]\u001b[A\n",
      "Train Inference:  41%|████      | 13/32 [00:00<00:00, 20.35it/s]\u001b[A\n",
      "Train Inference:  50%|█████     | 16/32 [00:00<00:00, 21.11it/s]\u001b[A\n",
      "Train Inference:  59%|█████▉    | 19/32 [00:01<00:00, 21.85it/s]\u001b[A\n",
      "Train Inference:  69%|██████▉   | 22/32 [00:01<00:00, 21.83it/s]\u001b[A\n",
      "Train Inference:  78%|███████▊  | 25/32 [00:01<00:00, 22.26it/s]\u001b[A\n",
      "Train Inference:  88%|████████▊ | 28/32 [00:01<00:00, 23.47it/s]\u001b[A\n",
      "Train Inference: 100%|██████████| 32/32 [00:01<00:00, 19.28it/s]\n",
      " 96%|█████████▌| 96/100 [02:47<00:07,  1.79s/it]\n",
      "Train Inference:   0%|          | 0/32 [00:00<?, ?it/s]\u001b[A\n",
      "Train Inference:   3%|▎         | 1/32 [00:00<00:09,  3.38it/s]\u001b[A\n",
      "Train Inference:  12%|█▎        | 4/32 [00:00<00:02, 11.14it/s]\u001b[A\n",
      "Train Inference:  22%|██▏       | 7/32 [00:00<00:01, 15.79it/s]\u001b[A\n",
      "Train Inference:  31%|███▏      | 10/32 [00:00<00:01, 18.65it/s]\u001b[A\n",
      "Train Inference:  41%|████      | 13/32 [00:00<00:00, 20.40it/s]\u001b[A\n",
      "Train Inference:  50%|█████     | 16/32 [00:00<00:00, 21.63it/s]\u001b[A\n",
      "Train Inference:  59%|█████▉    | 19/32 [00:01<00:00, 22.32it/s]\u001b[A\n",
      "Train Inference:  69%|██████▉   | 22/32 [00:01<00:00, 22.30it/s]\u001b[A\n",
      "Train Inference:  78%|███████▊  | 25/32 [00:01<00:00, 23.59it/s]\u001b[A\n",
      "Train Inference:  88%|████████▊ | 28/32 [00:01<00:00, 24.87it/s]\u001b[A\n",
      "Train Inference: 100%|██████████| 32/32 [00:01<00:00, 19.98it/s]\n",
      " 97%|█████████▋| 97/100 [02:48<00:05,  1.78s/it]\n",
      "Train Inference:   0%|          | 0/32 [00:00<?, ?it/s]\u001b[A\n",
      "Train Inference:   3%|▎         | 1/32 [00:00<00:09,  3.38it/s]\u001b[A\n",
      "Train Inference:  12%|█▎        | 4/32 [00:00<00:02, 11.49it/s]\u001b[A\n",
      "Train Inference:  22%|██▏       | 7/32 [00:00<00:01, 16.04it/s]\u001b[A\n",
      "Train Inference:  31%|███▏      | 10/32 [00:00<00:01, 18.87it/s]\u001b[A\n",
      "Train Inference:  41%|████      | 13/32 [00:00<00:00, 20.35it/s]\u001b[A\n",
      "Train Inference:  50%|█████     | 16/32 [00:00<00:00, 21.17it/s]\u001b[A\n",
      "Train Inference:  59%|█████▉    | 19/32 [00:01<00:00, 21.18it/s]\u001b[A\n",
      "Train Inference:  69%|██████▉   | 22/32 [00:01<00:00, 21.71it/s]\u001b[A\n",
      "Train Inference:  78%|███████▊  | 25/32 [00:01<00:00, 22.41it/s]\u001b[A\n",
      "Train Inference:  88%|████████▊ | 28/32 [00:01<00:00, 23.45it/s]\u001b[A\n",
      "Train Inference: 100%|██████████| 32/32 [00:01<00:00, 19.34it/s]\n",
      " 98%|█████████▊| 98/100 [02:50<00:03,  1.78s/it]\n",
      "Train Inference:   0%|          | 0/32 [00:00<?, ?it/s]\u001b[A\n",
      "Train Inference:   3%|▎         | 1/32 [00:00<00:09,  3.32it/s]\u001b[A\n",
      "Train Inference:  12%|█▎        | 4/32 [00:00<00:02, 11.08it/s]\u001b[A\n",
      "Train Inference:  22%|██▏       | 7/32 [00:00<00:01, 15.52it/s]\u001b[A\n",
      "Train Inference:  31%|███▏      | 10/32 [00:00<00:01, 18.31it/s]\u001b[A\n",
      "Train Inference:  41%|████      | 13/32 [00:00<00:00, 19.94it/s]\u001b[A\n",
      "Train Inference:  50%|█████     | 16/32 [00:00<00:00, 20.92it/s]\u001b[A\n",
      "Train Inference:  59%|█████▉    | 19/32 [00:01<00:00, 21.28it/s]\u001b[A\n",
      "Train Inference:  69%|██████▉   | 22/32 [00:01<00:00, 21.28it/s]\u001b[A\n",
      "Train Inference:  78%|███████▊  | 25/32 [00:01<00:00, 22.03it/s]\u001b[A\n",
      "Train Inference:  88%|████████▊ | 28/32 [00:01<00:00, 23.02it/s]\u001b[A\n",
      "Train Inference: 100%|██████████| 32/32 [00:01<00:00, 19.03it/s]\n",
      " 99%|█████████▉| 99/100 [02:52<00:01,  1.79s/it]\n",
      "Train Inference:   0%|          | 0/32 [00:00<?, ?it/s]\u001b[A\n",
      "Train Inference:   3%|▎         | 1/32 [00:00<00:09,  3.42it/s]\u001b[A\n",
      "Train Inference:  12%|█▎        | 4/32 [00:00<00:02, 11.30it/s]\u001b[A\n",
      "Train Inference:  22%|██▏       | 7/32 [00:00<00:01, 15.98it/s]\u001b[A\n",
      "Train Inference:  31%|███▏      | 10/32 [00:00<00:01, 18.73it/s]\u001b[A\n",
      "Train Inference:  41%|████      | 13/32 [00:00<00:00, 19.98it/s]\u001b[A\n",
      "Train Inference:  50%|█████     | 16/32 [00:00<00:00, 20.63it/s]\u001b[A\n",
      "Train Inference:  59%|█████▉    | 19/32 [00:01<00:00, 21.00it/s]\u001b[A\n",
      "Train Inference:  69%|██████▉   | 22/32 [00:01<00:00, 21.19it/s]\u001b[A\n",
      "Train Inference:  78%|███████▊  | 25/32 [00:01<00:00, 21.84it/s]\u001b[A\n",
      "Train Inference:  88%|████████▊ | 28/32 [00:01<00:00, 23.32it/s]\u001b[A\n",
      "Train Inference: 100%|██████████| 32/32 [00:01<00:00, 19.14it/s]\n",
      "100%|██████████| 100/100 [02:54<00:00,  1.74s/it]\n"
     ]
    },
    {
     "output_type": "display_data",
     "data": {
      "text/plain": "<Figure size 432x288 with 1 Axes>",
      "image/svg+xml": "<?xml version=\"1.0\" encoding=\"utf-8\" standalone=\"no\"?>\n<!DOCTYPE svg PUBLIC \"-//W3C//DTD SVG 1.1//EN\"\n  \"http://www.w3.org/Graphics/SVG/1.1/DTD/svg11.dtd\">\n<!-- Created with matplotlib (https://matplotlib.org/) -->\n<svg height=\"279.995312pt\" version=\"1.1\" viewBox=\"0 0 424.529687 279.995312\" width=\"424.529687pt\" xmlns=\"http://www.w3.org/2000/svg\" xmlns:xlink=\"http://www.w3.org/1999/xlink\">\n <metadata>\n  <rdf:RDF xmlns:cc=\"http://creativecommons.org/ns#\" xmlns:dc=\"http://purl.org/dc/elements/1.1/\" xmlns:rdf=\"http://www.w3.org/1999/02/22-rdf-syntax-ns#\">\n   <cc:Work>\n    <dc:type rdf:resource=\"http://purl.org/dc/dcmitype/StillImage\"/>\n    <dc:date>2021-05-20T10:41:39.303581</dc:date>\n    <dc:format>image/svg+xml</dc:format>\n    <dc:creator>\n     <cc:Agent>\n      <dc:title>Matplotlib v3.3.4, https://matplotlib.org/</dc:title>\n     </cc:Agent>\n    </dc:creator>\n   </cc:Work>\n  </rdf:RDF>\n </metadata>\n <defs>\n  <style type=\"text/css\">*{stroke-linecap:butt;stroke-linejoin:round;}</style>\n </defs>\n <g id=\"figure_1\">\n  <g id=\"patch_1\">\n   <path d=\"M 0 279.995312 \nL 424.529687 279.995312 \nL 424.529687 0 \nL 0 0 \nz\n\" style=\"fill:none;\"/>\n  </g>\n  <g id=\"axes_1\">\n   <g id=\"patch_2\">\n    <path d=\"M 51.804688 237.6 \nL 417.329687 237.6 \nL 417.329687 7.2 \nL 51.804688 7.2 \nz\n\" style=\"fill:#ffffff;\"/>\n   </g>\n   <g id=\"matplotlib.axis_1\">\n    <g id=\"xtick_1\">\n     <g id=\"line2d_1\">\n      <defs>\n       <path d=\"M 0 0 \nL 0 3.5 \n\" id=\"mab9e909788\" style=\"stroke:#000000;stroke-width:0.8;\"/>\n      </defs>\n      <g>\n       <use style=\"stroke:#000000;stroke-width:0.8;\" x=\"68.086832\" xlink:href=\"#mab9e909788\" y=\"237.6\"/>\n      </g>\n     </g>\n     <g id=\"text_1\">\n      <!-- 0 -->\n      <g transform=\"translate(64.905582 252.198437)scale(0.1 -0.1)\">\n       <defs>\n        <path d=\"M 31.78125 66.40625 \nQ 24.171875 66.40625 20.328125 58.90625 \nQ 16.5 51.421875 16.5 36.375 \nQ 16.5 21.390625 20.328125 13.890625 \nQ 24.171875 6.390625 31.78125 6.390625 \nQ 39.453125 6.390625 43.28125 13.890625 \nQ 47.125 21.390625 47.125 36.375 \nQ 47.125 51.421875 43.28125 58.90625 \nQ 39.453125 66.40625 31.78125 66.40625 \nz\nM 31.78125 74.21875 \nQ 44.046875 74.21875 50.515625 64.515625 \nQ 56.984375 54.828125 56.984375 36.375 \nQ 56.984375 17.96875 50.515625 8.265625 \nQ 44.046875 -1.421875 31.78125 -1.421875 \nQ 19.53125 -1.421875 13.0625 8.265625 \nQ 6.59375 17.96875 6.59375 36.375 \nQ 6.59375 54.828125 13.0625 64.515625 \nQ 19.53125 74.21875 31.78125 74.21875 \nz\n\" id=\"DejaVuSans-48\"/>\n       </defs>\n       <use xlink:href=\"#DejaVuSans-48\"/>\n      </g>\n     </g>\n    </g>\n    <g id=\"xtick_2\">\n     <g id=\"line2d_2\">\n      <g>\n       <use style=\"stroke:#000000;stroke-width:0.8;\" x=\"134.612449\" xlink:href=\"#mab9e909788\" y=\"237.6\"/>\n      </g>\n     </g>\n     <g id=\"text_2\">\n      <!-- 20 -->\n      <g transform=\"translate(128.249949 252.198437)scale(0.1 -0.1)\">\n       <defs>\n        <path d=\"M 19.1875 8.296875 \nL 53.609375 8.296875 \nL 53.609375 0 \nL 7.328125 0 \nL 7.328125 8.296875 \nQ 12.9375 14.109375 22.625 23.890625 \nQ 32.328125 33.6875 34.8125 36.53125 \nQ 39.546875 41.84375 41.421875 45.53125 \nQ 43.3125 49.21875 43.3125 52.78125 \nQ 43.3125 58.59375 39.234375 62.25 \nQ 35.15625 65.921875 28.609375 65.921875 \nQ 23.96875 65.921875 18.8125 64.3125 \nQ 13.671875 62.703125 7.8125 59.421875 \nL 7.8125 69.390625 \nQ 13.765625 71.78125 18.9375 73 \nQ 24.125 74.21875 28.421875 74.21875 \nQ 39.75 74.21875 46.484375 68.546875 \nQ 53.21875 62.890625 53.21875 53.421875 \nQ 53.21875 48.921875 51.53125 44.890625 \nQ 49.859375 40.875 45.40625 35.40625 \nQ 44.1875 33.984375 37.640625 27.21875 \nQ 31.109375 20.453125 19.1875 8.296875 \nz\n\" id=\"DejaVuSans-50\"/>\n       </defs>\n       <use xlink:href=\"#DejaVuSans-50\"/>\n       <use x=\"63.623047\" xlink:href=\"#DejaVuSans-48\"/>\n      </g>\n     </g>\n    </g>\n    <g id=\"xtick_3\">\n     <g id=\"line2d_3\">\n      <g>\n       <use style=\"stroke:#000000;stroke-width:0.8;\" x=\"201.138065\" xlink:href=\"#mab9e909788\" y=\"237.6\"/>\n      </g>\n     </g>\n     <g id=\"text_3\">\n      <!-- 40 -->\n      <g transform=\"translate(194.775565 252.198437)scale(0.1 -0.1)\">\n       <defs>\n        <path d=\"M 37.796875 64.3125 \nL 12.890625 25.390625 \nL 37.796875 25.390625 \nz\nM 35.203125 72.90625 \nL 47.609375 72.90625 \nL 47.609375 25.390625 \nL 58.015625 25.390625 \nL 58.015625 17.1875 \nL 47.609375 17.1875 \nL 47.609375 0 \nL 37.796875 0 \nL 37.796875 17.1875 \nL 4.890625 17.1875 \nL 4.890625 26.703125 \nz\n\" id=\"DejaVuSans-52\"/>\n       </defs>\n       <use xlink:href=\"#DejaVuSans-52\"/>\n       <use x=\"63.623047\" xlink:href=\"#DejaVuSans-48\"/>\n      </g>\n     </g>\n    </g>\n    <g id=\"xtick_4\">\n     <g id=\"line2d_4\">\n      <g>\n       <use style=\"stroke:#000000;stroke-width:0.8;\" x=\"267.663682\" xlink:href=\"#mab9e909788\" y=\"237.6\"/>\n      </g>\n     </g>\n     <g id=\"text_4\">\n      <!-- 60 -->\n      <g transform=\"translate(261.301182 252.198437)scale(0.1 -0.1)\">\n       <defs>\n        <path d=\"M 33.015625 40.375 \nQ 26.375 40.375 22.484375 35.828125 \nQ 18.609375 31.296875 18.609375 23.390625 \nQ 18.609375 15.53125 22.484375 10.953125 \nQ 26.375 6.390625 33.015625 6.390625 \nQ 39.65625 6.390625 43.53125 10.953125 \nQ 47.40625 15.53125 47.40625 23.390625 \nQ 47.40625 31.296875 43.53125 35.828125 \nQ 39.65625 40.375 33.015625 40.375 \nz\nM 52.59375 71.296875 \nL 52.59375 62.3125 \nQ 48.875 64.0625 45.09375 64.984375 \nQ 41.3125 65.921875 37.59375 65.921875 \nQ 27.828125 65.921875 22.671875 59.328125 \nQ 17.53125 52.734375 16.796875 39.40625 \nQ 19.671875 43.65625 24.015625 45.921875 \nQ 28.375 48.1875 33.59375 48.1875 \nQ 44.578125 48.1875 50.953125 41.515625 \nQ 57.328125 34.859375 57.328125 23.390625 \nQ 57.328125 12.15625 50.6875 5.359375 \nQ 44.046875 -1.421875 33.015625 -1.421875 \nQ 20.359375 -1.421875 13.671875 8.265625 \nQ 6.984375 17.96875 6.984375 36.375 \nQ 6.984375 53.65625 15.1875 63.9375 \nQ 23.390625 74.21875 37.203125 74.21875 \nQ 40.921875 74.21875 44.703125 73.484375 \nQ 48.484375 72.75 52.59375 71.296875 \nz\n\" id=\"DejaVuSans-54\"/>\n       </defs>\n       <use xlink:href=\"#DejaVuSans-54\"/>\n       <use x=\"63.623047\" xlink:href=\"#DejaVuSans-48\"/>\n      </g>\n     </g>\n    </g>\n    <g id=\"xtick_5\">\n     <g id=\"line2d_5\">\n      <g>\n       <use style=\"stroke:#000000;stroke-width:0.8;\" x=\"334.189298\" xlink:href=\"#mab9e909788\" y=\"237.6\"/>\n      </g>\n     </g>\n     <g id=\"text_5\">\n      <!-- 80 -->\n      <g transform=\"translate(327.826798 252.198437)scale(0.1 -0.1)\">\n       <defs>\n        <path d=\"M 31.78125 34.625 \nQ 24.75 34.625 20.71875 30.859375 \nQ 16.703125 27.09375 16.703125 20.515625 \nQ 16.703125 13.921875 20.71875 10.15625 \nQ 24.75 6.390625 31.78125 6.390625 \nQ 38.8125 6.390625 42.859375 10.171875 \nQ 46.921875 13.96875 46.921875 20.515625 \nQ 46.921875 27.09375 42.890625 30.859375 \nQ 38.875 34.625 31.78125 34.625 \nz\nM 21.921875 38.8125 \nQ 15.578125 40.375 12.03125 44.71875 \nQ 8.5 49.078125 8.5 55.328125 \nQ 8.5 64.0625 14.71875 69.140625 \nQ 20.953125 74.21875 31.78125 74.21875 \nQ 42.671875 74.21875 48.875 69.140625 \nQ 55.078125 64.0625 55.078125 55.328125 \nQ 55.078125 49.078125 51.53125 44.71875 \nQ 48 40.375 41.703125 38.8125 \nQ 48.828125 37.15625 52.796875 32.3125 \nQ 56.78125 27.484375 56.78125 20.515625 \nQ 56.78125 9.90625 50.3125 4.234375 \nQ 43.84375 -1.421875 31.78125 -1.421875 \nQ 19.734375 -1.421875 13.25 4.234375 \nQ 6.78125 9.90625 6.78125 20.515625 \nQ 6.78125 27.484375 10.78125 32.3125 \nQ 14.796875 37.15625 21.921875 38.8125 \nz\nM 18.3125 54.390625 \nQ 18.3125 48.734375 21.84375 45.5625 \nQ 25.390625 42.390625 31.78125 42.390625 \nQ 38.140625 42.390625 41.71875 45.5625 \nQ 45.3125 48.734375 45.3125 54.390625 \nQ 45.3125 60.0625 41.71875 63.234375 \nQ 38.140625 66.40625 31.78125 66.40625 \nQ 25.390625 66.40625 21.84375 63.234375 \nQ 18.3125 60.0625 18.3125 54.390625 \nz\n\" id=\"DejaVuSans-56\"/>\n       </defs>\n       <use xlink:href=\"#DejaVuSans-56\"/>\n       <use x=\"63.623047\" xlink:href=\"#DejaVuSans-48\"/>\n      </g>\n     </g>\n    </g>\n    <g id=\"xtick_6\">\n     <g id=\"line2d_6\">\n      <g>\n       <use style=\"stroke:#000000;stroke-width:0.8;\" x=\"400.714915\" xlink:href=\"#mab9e909788\" y=\"237.6\"/>\n      </g>\n     </g>\n     <g id=\"text_6\">\n      <!-- 100 -->\n      <g transform=\"translate(391.171165 252.198437)scale(0.1 -0.1)\">\n       <defs>\n        <path d=\"M 12.40625 8.296875 \nL 28.515625 8.296875 \nL 28.515625 63.921875 \nL 10.984375 60.40625 \nL 10.984375 69.390625 \nL 28.421875 72.90625 \nL 38.28125 72.90625 \nL 38.28125 8.296875 \nL 54.390625 8.296875 \nL 54.390625 0 \nL 12.40625 0 \nz\n\" id=\"DejaVuSans-49\"/>\n       </defs>\n       <use xlink:href=\"#DejaVuSans-49\"/>\n       <use x=\"63.623047\" xlink:href=\"#DejaVuSans-48\"/>\n       <use x=\"127.246094\" xlink:href=\"#DejaVuSans-48\"/>\n      </g>\n     </g>\n    </g>\n    <g id=\"text_7\">\n     <!-- Fraction of data inspected (%) -->\n     <g transform=\"translate(121.432031 269.675781)scale(0.15 -0.15)\">\n      <defs>\n       <path d=\"M 9.8125 72.90625 \nL 51.703125 72.90625 \nL 51.703125 64.59375 \nL 19.671875 64.59375 \nL 19.671875 43.109375 \nL 48.578125 43.109375 \nL 48.578125 34.8125 \nL 19.671875 34.8125 \nL 19.671875 0 \nL 9.8125 0 \nz\n\" id=\"DejaVuSans-70\"/>\n       <path d=\"M 41.109375 46.296875 \nQ 39.59375 47.171875 37.8125 47.578125 \nQ 36.03125 48 33.890625 48 \nQ 26.265625 48 22.1875 43.046875 \nQ 18.109375 38.09375 18.109375 28.8125 \nL 18.109375 0 \nL 9.078125 0 \nL 9.078125 54.6875 \nL 18.109375 54.6875 \nL 18.109375 46.1875 \nQ 20.953125 51.171875 25.484375 53.578125 \nQ 30.03125 56 36.53125 56 \nQ 37.453125 56 38.578125 55.875 \nQ 39.703125 55.765625 41.0625 55.515625 \nz\n\" id=\"DejaVuSans-114\"/>\n       <path d=\"M 34.28125 27.484375 \nQ 23.390625 27.484375 19.1875 25 \nQ 14.984375 22.515625 14.984375 16.5 \nQ 14.984375 11.71875 18.140625 8.90625 \nQ 21.296875 6.109375 26.703125 6.109375 \nQ 34.1875 6.109375 38.703125 11.40625 \nQ 43.21875 16.703125 43.21875 25.484375 \nL 43.21875 27.484375 \nz\nM 52.203125 31.203125 \nL 52.203125 0 \nL 43.21875 0 \nL 43.21875 8.296875 \nQ 40.140625 3.328125 35.546875 0.953125 \nQ 30.953125 -1.421875 24.3125 -1.421875 \nQ 15.921875 -1.421875 10.953125 3.296875 \nQ 6 8.015625 6 15.921875 \nQ 6 25.140625 12.171875 29.828125 \nQ 18.359375 34.515625 30.609375 34.515625 \nL 43.21875 34.515625 \nL 43.21875 35.40625 \nQ 43.21875 41.609375 39.140625 45 \nQ 35.0625 48.390625 27.6875 48.390625 \nQ 23 48.390625 18.546875 47.265625 \nQ 14.109375 46.140625 10.015625 43.890625 \nL 10.015625 52.203125 \nQ 14.9375 54.109375 19.578125 55.046875 \nQ 24.21875 56 28.609375 56 \nQ 40.484375 56 46.34375 49.84375 \nQ 52.203125 43.703125 52.203125 31.203125 \nz\n\" id=\"DejaVuSans-97\"/>\n       <path d=\"M 48.78125 52.59375 \nL 48.78125 44.1875 \nQ 44.96875 46.296875 41.140625 47.34375 \nQ 37.3125 48.390625 33.40625 48.390625 \nQ 24.65625 48.390625 19.8125 42.84375 \nQ 14.984375 37.3125 14.984375 27.296875 \nQ 14.984375 17.28125 19.8125 11.734375 \nQ 24.65625 6.203125 33.40625 6.203125 \nQ 37.3125 6.203125 41.140625 7.25 \nQ 44.96875 8.296875 48.78125 10.40625 \nL 48.78125 2.09375 \nQ 45.015625 0.34375 40.984375 -0.53125 \nQ 36.96875 -1.421875 32.421875 -1.421875 \nQ 20.0625 -1.421875 12.78125 6.34375 \nQ 5.515625 14.109375 5.515625 27.296875 \nQ 5.515625 40.671875 12.859375 48.328125 \nQ 20.21875 56 33.015625 56 \nQ 37.15625 56 41.109375 55.140625 \nQ 45.0625 54.296875 48.78125 52.59375 \nz\n\" id=\"DejaVuSans-99\"/>\n       <path d=\"M 18.3125 70.21875 \nL 18.3125 54.6875 \nL 36.8125 54.6875 \nL 36.8125 47.703125 \nL 18.3125 47.703125 \nL 18.3125 18.015625 \nQ 18.3125 11.328125 20.140625 9.421875 \nQ 21.96875 7.515625 27.59375 7.515625 \nL 36.8125 7.515625 \nL 36.8125 0 \nL 27.59375 0 \nQ 17.1875 0 13.234375 3.875 \nQ 9.28125 7.765625 9.28125 18.015625 \nL 9.28125 47.703125 \nL 2.6875 47.703125 \nL 2.6875 54.6875 \nL 9.28125 54.6875 \nL 9.28125 70.21875 \nz\n\" id=\"DejaVuSans-116\"/>\n       <path d=\"M 9.421875 54.6875 \nL 18.40625 54.6875 \nL 18.40625 0 \nL 9.421875 0 \nz\nM 9.421875 75.984375 \nL 18.40625 75.984375 \nL 18.40625 64.59375 \nL 9.421875 64.59375 \nz\n\" id=\"DejaVuSans-105\"/>\n       <path d=\"M 30.609375 48.390625 \nQ 23.390625 48.390625 19.1875 42.75 \nQ 14.984375 37.109375 14.984375 27.296875 \nQ 14.984375 17.484375 19.15625 11.84375 \nQ 23.34375 6.203125 30.609375 6.203125 \nQ 37.796875 6.203125 41.984375 11.859375 \nQ 46.1875 17.53125 46.1875 27.296875 \nQ 46.1875 37.015625 41.984375 42.703125 \nQ 37.796875 48.390625 30.609375 48.390625 \nz\nM 30.609375 56 \nQ 42.328125 56 49.015625 48.375 \nQ 55.71875 40.765625 55.71875 27.296875 \nQ 55.71875 13.875 49.015625 6.21875 \nQ 42.328125 -1.421875 30.609375 -1.421875 \nQ 18.84375 -1.421875 12.171875 6.21875 \nQ 5.515625 13.875 5.515625 27.296875 \nQ 5.515625 40.765625 12.171875 48.375 \nQ 18.84375 56 30.609375 56 \nz\n\" id=\"DejaVuSans-111\"/>\n       <path d=\"M 54.890625 33.015625 \nL 54.890625 0 \nL 45.90625 0 \nL 45.90625 32.71875 \nQ 45.90625 40.484375 42.875 44.328125 \nQ 39.84375 48.1875 33.796875 48.1875 \nQ 26.515625 48.1875 22.3125 43.546875 \nQ 18.109375 38.921875 18.109375 30.90625 \nL 18.109375 0 \nL 9.078125 0 \nL 9.078125 54.6875 \nL 18.109375 54.6875 \nL 18.109375 46.1875 \nQ 21.34375 51.125 25.703125 53.5625 \nQ 30.078125 56 35.796875 56 \nQ 45.21875 56 50.046875 50.171875 \nQ 54.890625 44.34375 54.890625 33.015625 \nz\n\" id=\"DejaVuSans-110\"/>\n       <path id=\"DejaVuSans-32\"/>\n       <path d=\"M 37.109375 75.984375 \nL 37.109375 68.5 \nL 28.515625 68.5 \nQ 23.6875 68.5 21.796875 66.546875 \nQ 19.921875 64.59375 19.921875 59.515625 \nL 19.921875 54.6875 \nL 34.71875 54.6875 \nL 34.71875 47.703125 \nL 19.921875 47.703125 \nL 19.921875 0 \nL 10.890625 0 \nL 10.890625 47.703125 \nL 2.296875 47.703125 \nL 2.296875 54.6875 \nL 10.890625 54.6875 \nL 10.890625 58.5 \nQ 10.890625 67.625 15.140625 71.796875 \nQ 19.390625 75.984375 28.609375 75.984375 \nz\n\" id=\"DejaVuSans-102\"/>\n       <path d=\"M 45.40625 46.390625 \nL 45.40625 75.984375 \nL 54.390625 75.984375 \nL 54.390625 0 \nL 45.40625 0 \nL 45.40625 8.203125 \nQ 42.578125 3.328125 38.25 0.953125 \nQ 33.9375 -1.421875 27.875 -1.421875 \nQ 17.96875 -1.421875 11.734375 6.484375 \nQ 5.515625 14.40625 5.515625 27.296875 \nQ 5.515625 40.1875 11.734375 48.09375 \nQ 17.96875 56 27.875 56 \nQ 33.9375 56 38.25 53.625 \nQ 42.578125 51.265625 45.40625 46.390625 \nz\nM 14.796875 27.296875 \nQ 14.796875 17.390625 18.875 11.75 \nQ 22.953125 6.109375 30.078125 6.109375 \nQ 37.203125 6.109375 41.296875 11.75 \nQ 45.40625 17.390625 45.40625 27.296875 \nQ 45.40625 37.203125 41.296875 42.84375 \nQ 37.203125 48.484375 30.078125 48.484375 \nQ 22.953125 48.484375 18.875 42.84375 \nQ 14.796875 37.203125 14.796875 27.296875 \nz\n\" id=\"DejaVuSans-100\"/>\n       <path d=\"M 44.28125 53.078125 \nL 44.28125 44.578125 \nQ 40.484375 46.53125 36.375 47.5 \nQ 32.28125 48.484375 27.875 48.484375 \nQ 21.1875 48.484375 17.84375 46.4375 \nQ 14.5 44.390625 14.5 40.28125 \nQ 14.5 37.15625 16.890625 35.375 \nQ 19.28125 33.59375 26.515625 31.984375 \nL 29.59375 31.296875 \nQ 39.15625 29.25 43.1875 25.515625 \nQ 47.21875 21.78125 47.21875 15.09375 \nQ 47.21875 7.46875 41.1875 3.015625 \nQ 35.15625 -1.421875 24.609375 -1.421875 \nQ 20.21875 -1.421875 15.453125 -0.5625 \nQ 10.6875 0.296875 5.421875 2 \nL 5.421875 11.28125 \nQ 10.40625 8.6875 15.234375 7.390625 \nQ 20.0625 6.109375 24.8125 6.109375 \nQ 31.15625 6.109375 34.5625 8.28125 \nQ 37.984375 10.453125 37.984375 14.40625 \nQ 37.984375 18.0625 35.515625 20.015625 \nQ 33.0625 21.96875 24.703125 23.78125 \nL 21.578125 24.515625 \nQ 13.234375 26.265625 9.515625 29.90625 \nQ 5.8125 33.546875 5.8125 39.890625 \nQ 5.8125 47.609375 11.28125 51.796875 \nQ 16.75 56 26.8125 56 \nQ 31.78125 56 36.171875 55.265625 \nQ 40.578125 54.546875 44.28125 53.078125 \nz\n\" id=\"DejaVuSans-115\"/>\n       <path d=\"M 18.109375 8.203125 \nL 18.109375 -20.796875 \nL 9.078125 -20.796875 \nL 9.078125 54.6875 \nL 18.109375 54.6875 \nL 18.109375 46.390625 \nQ 20.953125 51.265625 25.265625 53.625 \nQ 29.59375 56 35.59375 56 \nQ 45.5625 56 51.78125 48.09375 \nQ 58.015625 40.1875 58.015625 27.296875 \nQ 58.015625 14.40625 51.78125 6.484375 \nQ 45.5625 -1.421875 35.59375 -1.421875 \nQ 29.59375 -1.421875 25.265625 0.953125 \nQ 20.953125 3.328125 18.109375 8.203125 \nz\nM 48.6875 27.296875 \nQ 48.6875 37.203125 44.609375 42.84375 \nQ 40.53125 48.484375 33.40625 48.484375 \nQ 26.265625 48.484375 22.1875 42.84375 \nQ 18.109375 37.203125 18.109375 27.296875 \nQ 18.109375 17.390625 22.1875 11.75 \nQ 26.265625 6.109375 33.40625 6.109375 \nQ 40.53125 6.109375 44.609375 11.75 \nQ 48.6875 17.390625 48.6875 27.296875 \nz\n\" id=\"DejaVuSans-112\"/>\n       <path d=\"M 56.203125 29.59375 \nL 56.203125 25.203125 \nL 14.890625 25.203125 \nQ 15.484375 15.921875 20.484375 11.0625 \nQ 25.484375 6.203125 34.421875 6.203125 \nQ 39.59375 6.203125 44.453125 7.46875 \nQ 49.3125 8.734375 54.109375 11.28125 \nL 54.109375 2.78125 \nQ 49.265625 0.734375 44.1875 -0.34375 \nQ 39.109375 -1.421875 33.890625 -1.421875 \nQ 20.796875 -1.421875 13.15625 6.1875 \nQ 5.515625 13.8125 5.515625 26.8125 \nQ 5.515625 40.234375 12.765625 48.109375 \nQ 20.015625 56 32.328125 56 \nQ 43.359375 56 49.78125 48.890625 \nQ 56.203125 41.796875 56.203125 29.59375 \nz\nM 47.21875 32.234375 \nQ 47.125 39.59375 43.09375 43.984375 \nQ 39.0625 48.390625 32.421875 48.390625 \nQ 24.90625 48.390625 20.390625 44.140625 \nQ 15.875 39.890625 15.1875 32.171875 \nz\n\" id=\"DejaVuSans-101\"/>\n       <path d=\"M 31 75.875 \nQ 24.46875 64.65625 21.28125 53.65625 \nQ 18.109375 42.671875 18.109375 31.390625 \nQ 18.109375 20.125 21.3125 9.0625 \nQ 24.515625 -2 31 -13.1875 \nL 23.1875 -13.1875 \nQ 15.875 -1.703125 12.234375 9.375 \nQ 8.59375 20.453125 8.59375 31.390625 \nQ 8.59375 42.28125 12.203125 53.3125 \nQ 15.828125 64.359375 23.1875 75.875 \nz\n\" id=\"DejaVuSans-40\"/>\n       <path d=\"M 72.703125 32.078125 \nQ 68.453125 32.078125 66.03125 28.46875 \nQ 63.625 24.859375 63.625 18.40625 \nQ 63.625 12.0625 66.03125 8.421875 \nQ 68.453125 4.78125 72.703125 4.78125 \nQ 76.859375 4.78125 79.265625 8.421875 \nQ 81.6875 12.0625 81.6875 18.40625 \nQ 81.6875 24.8125 79.265625 28.4375 \nQ 76.859375 32.078125 72.703125 32.078125 \nz\nM 72.703125 38.28125 \nQ 80.421875 38.28125 84.953125 32.90625 \nQ 89.5 27.546875 89.5 18.40625 \nQ 89.5 9.28125 84.9375 3.921875 \nQ 80.375 -1.421875 72.703125 -1.421875 \nQ 64.890625 -1.421875 60.34375 3.921875 \nQ 55.8125 9.28125 55.8125 18.40625 \nQ 55.8125 27.59375 60.375 32.9375 \nQ 64.9375 38.28125 72.703125 38.28125 \nz\nM 22.3125 68.015625 \nQ 18.109375 68.015625 15.6875 64.375 \nQ 13.28125 60.75 13.28125 54.390625 \nQ 13.28125 47.953125 15.671875 44.328125 \nQ 18.0625 40.71875 22.3125 40.71875 \nQ 26.5625 40.71875 28.96875 44.328125 \nQ 31.390625 47.953125 31.390625 54.390625 \nQ 31.390625 60.6875 28.953125 64.34375 \nQ 26.515625 68.015625 22.3125 68.015625 \nz\nM 66.40625 74.21875 \nL 74.21875 74.21875 \nL 28.609375 -1.421875 \nL 20.796875 -1.421875 \nz\nM 22.3125 74.21875 \nQ 30.03125 74.21875 34.609375 68.875 \nQ 39.203125 63.53125 39.203125 54.390625 \nQ 39.203125 45.171875 34.640625 39.84375 \nQ 30.078125 34.515625 22.3125 34.515625 \nQ 14.546875 34.515625 10.03125 39.859375 \nQ 5.515625 45.21875 5.515625 54.390625 \nQ 5.515625 63.484375 10.046875 68.84375 \nQ 14.59375 74.21875 22.3125 74.21875 \nz\n\" id=\"DejaVuSans-37\"/>\n       <path d=\"M 8.015625 75.875 \nL 15.828125 75.875 \nQ 23.140625 64.359375 26.78125 53.3125 \nQ 30.421875 42.28125 30.421875 31.390625 \nQ 30.421875 20.453125 26.78125 9.375 \nQ 23.140625 -1.703125 15.828125 -13.1875 \nL 8.015625 -13.1875 \nQ 14.5 -2 17.703125 9.0625 \nQ 20.90625 20.125 20.90625 31.390625 \nQ 20.90625 42.671875 17.703125 53.65625 \nQ 14.5 64.65625 8.015625 75.875 \nz\n\" id=\"DejaVuSans-41\"/>\n      </defs>\n      <use xlink:href=\"#DejaVuSans-70\"/>\n      <use x=\"50.269531\" xlink:href=\"#DejaVuSans-114\"/>\n      <use x=\"91.382812\" xlink:href=\"#DejaVuSans-97\"/>\n      <use x=\"152.662109\" xlink:href=\"#DejaVuSans-99\"/>\n      <use x=\"207.642578\" xlink:href=\"#DejaVuSans-116\"/>\n      <use x=\"246.851562\" xlink:href=\"#DejaVuSans-105\"/>\n      <use x=\"274.634766\" xlink:href=\"#DejaVuSans-111\"/>\n      <use x=\"335.816406\" xlink:href=\"#DejaVuSans-110\"/>\n      <use x=\"399.195312\" xlink:href=\"#DejaVuSans-32\"/>\n      <use x=\"430.982422\" xlink:href=\"#DejaVuSans-111\"/>\n      <use x=\"492.164062\" xlink:href=\"#DejaVuSans-102\"/>\n      <use x=\"527.369141\" xlink:href=\"#DejaVuSans-32\"/>\n      <use x=\"559.15625\" xlink:href=\"#DejaVuSans-100\"/>\n      <use x=\"622.632812\" xlink:href=\"#DejaVuSans-97\"/>\n      <use x=\"683.912109\" xlink:href=\"#DejaVuSans-116\"/>\n      <use x=\"723.121094\" xlink:href=\"#DejaVuSans-97\"/>\n      <use x=\"784.400391\" xlink:href=\"#DejaVuSans-32\"/>\n      <use x=\"816.1875\" xlink:href=\"#DejaVuSans-105\"/>\n      <use x=\"843.970703\" xlink:href=\"#DejaVuSans-110\"/>\n      <use x=\"907.349609\" xlink:href=\"#DejaVuSans-115\"/>\n      <use x=\"959.449219\" xlink:href=\"#DejaVuSans-112\"/>\n      <use x=\"1022.925781\" xlink:href=\"#DejaVuSans-101\"/>\n      <use x=\"1084.449219\" xlink:href=\"#DejaVuSans-99\"/>\n      <use x=\"1139.429688\" xlink:href=\"#DejaVuSans-116\"/>\n      <use x=\"1178.638672\" xlink:href=\"#DejaVuSans-101\"/>\n      <use x=\"1240.162109\" xlink:href=\"#DejaVuSans-100\"/>\n      <use x=\"1303.638672\" xlink:href=\"#DejaVuSans-32\"/>\n      <use x=\"1335.425781\" xlink:href=\"#DejaVuSans-40\"/>\n      <use x=\"1374.439453\" xlink:href=\"#DejaVuSans-37\"/>\n      <use x=\"1469.458984\" xlink:href=\"#DejaVuSans-41\"/>\n     </g>\n    </g>\n   </g>\n   <g id=\"matplotlib.axis_2\">\n    <g id=\"ytick_1\">\n     <g id=\"line2d_7\">\n      <defs>\n       <path d=\"M 0 0 \nL -3.5 0 \n\" id=\"m7934a62524\" style=\"stroke:#000000;stroke-width:0.8;\"/>\n      </defs>\n      <g>\n       <use style=\"stroke:#000000;stroke-width:0.8;\" x=\"51.804688\" xlink:href=\"#m7934a62524\" y=\"227.127273\"/>\n      </g>\n     </g>\n     <g id=\"text_8\">\n      <!-- 0 -->\n      <g transform=\"translate(38.442188 230.926491)scale(0.1 -0.1)\">\n       <use xlink:href=\"#DejaVuSans-48\"/>\n      </g>\n     </g>\n    </g>\n    <g id=\"ytick_2\">\n     <g id=\"line2d_8\">\n      <g>\n       <use style=\"stroke:#000000;stroke-width:0.8;\" x=\"51.804688\" xlink:href=\"#m7934a62524\" y=\"185.236364\"/>\n      </g>\n     </g>\n     <g id=\"text_9\">\n      <!-- 20 -->\n      <g transform=\"translate(32.079688 189.035582)scale(0.1 -0.1)\">\n       <use xlink:href=\"#DejaVuSans-50\"/>\n       <use x=\"63.623047\" xlink:href=\"#DejaVuSans-48\"/>\n      </g>\n     </g>\n    </g>\n    <g id=\"ytick_3\">\n     <g id=\"line2d_9\">\n      <g>\n       <use style=\"stroke:#000000;stroke-width:0.8;\" x=\"51.804688\" xlink:href=\"#m7934a62524\" y=\"143.345455\"/>\n      </g>\n     </g>\n     <g id=\"text_10\">\n      <!-- 40 -->\n      <g transform=\"translate(32.079688 147.144673)scale(0.1 -0.1)\">\n       <use xlink:href=\"#DejaVuSans-52\"/>\n       <use x=\"63.623047\" xlink:href=\"#DejaVuSans-48\"/>\n      </g>\n     </g>\n    </g>\n    <g id=\"ytick_4\">\n     <g id=\"line2d_10\">\n      <g>\n       <use style=\"stroke:#000000;stroke-width:0.8;\" x=\"51.804688\" xlink:href=\"#m7934a62524\" y=\"101.454545\"/>\n      </g>\n     </g>\n     <g id=\"text_11\">\n      <!-- 60 -->\n      <g transform=\"translate(32.079688 105.253764)scale(0.1 -0.1)\">\n       <use xlink:href=\"#DejaVuSans-54\"/>\n       <use x=\"63.623047\" xlink:href=\"#DejaVuSans-48\"/>\n      </g>\n     </g>\n    </g>\n    <g id=\"ytick_5\">\n     <g id=\"line2d_11\">\n      <g>\n       <use style=\"stroke:#000000;stroke-width:0.8;\" x=\"51.804688\" xlink:href=\"#m7934a62524\" y=\"59.563636\"/>\n      </g>\n     </g>\n     <g id=\"text_12\">\n      <!-- 80 -->\n      <g transform=\"translate(32.079688 63.362855)scale(0.1 -0.1)\">\n       <use xlink:href=\"#DejaVuSans-56\"/>\n       <use x=\"63.623047\" xlink:href=\"#DejaVuSans-48\"/>\n      </g>\n     </g>\n    </g>\n    <g id=\"ytick_6\">\n     <g id=\"line2d_12\">\n      <g>\n       <use style=\"stroke:#000000;stroke-width:0.8;\" x=\"51.804688\" xlink:href=\"#m7934a62524\" y=\"17.672727\"/>\n      </g>\n     </g>\n     <g id=\"text_13\">\n      <!-- 100 -->\n      <g transform=\"translate(25.717188 21.471946)scale(0.1 -0.1)\">\n       <use xlink:href=\"#DejaVuSans-49\"/>\n       <use x=\"63.623047\" xlink:href=\"#DejaVuSans-48\"/>\n       <use x=\"127.246094\" xlink:href=\"#DejaVuSans-48\"/>\n      </g>\n     </g>\n    </g>\n    <g id=\"text_14\">\n     <!-- Fraction of incorrect labels (%) -->\n     <g transform=\"translate(18.597656 237.222656)rotate(-90)scale(0.15 -0.15)\">\n      <defs>\n       <path d=\"M 9.421875 75.984375 \nL 18.40625 75.984375 \nL 18.40625 0 \nL 9.421875 0 \nz\n\" id=\"DejaVuSans-108\"/>\n       <path d=\"M 48.6875 27.296875 \nQ 48.6875 37.203125 44.609375 42.84375 \nQ 40.53125 48.484375 33.40625 48.484375 \nQ 26.265625 48.484375 22.1875 42.84375 \nQ 18.109375 37.203125 18.109375 27.296875 \nQ 18.109375 17.390625 22.1875 11.75 \nQ 26.265625 6.109375 33.40625 6.109375 \nQ 40.53125 6.109375 44.609375 11.75 \nQ 48.6875 17.390625 48.6875 27.296875 \nz\nM 18.109375 46.390625 \nQ 20.953125 51.265625 25.265625 53.625 \nQ 29.59375 56 35.59375 56 \nQ 45.5625 56 51.78125 48.09375 \nQ 58.015625 40.1875 58.015625 27.296875 \nQ 58.015625 14.40625 51.78125 6.484375 \nQ 45.5625 -1.421875 35.59375 -1.421875 \nQ 29.59375 -1.421875 25.265625 0.953125 \nQ 20.953125 3.328125 18.109375 8.203125 \nL 18.109375 0 \nL 9.078125 0 \nL 9.078125 75.984375 \nL 18.109375 75.984375 \nz\n\" id=\"DejaVuSans-98\"/>\n      </defs>\n      <use xlink:href=\"#DejaVuSans-70\"/>\n      <use x=\"50.269531\" xlink:href=\"#DejaVuSans-114\"/>\n      <use x=\"91.382812\" xlink:href=\"#DejaVuSans-97\"/>\n      <use x=\"152.662109\" xlink:href=\"#DejaVuSans-99\"/>\n      <use x=\"207.642578\" xlink:href=\"#DejaVuSans-116\"/>\n      <use x=\"246.851562\" xlink:href=\"#DejaVuSans-105\"/>\n      <use x=\"274.634766\" xlink:href=\"#DejaVuSans-111\"/>\n      <use x=\"335.816406\" xlink:href=\"#DejaVuSans-110\"/>\n      <use x=\"399.195312\" xlink:href=\"#DejaVuSans-32\"/>\n      <use x=\"430.982422\" xlink:href=\"#DejaVuSans-111\"/>\n      <use x=\"492.164062\" xlink:href=\"#DejaVuSans-102\"/>\n      <use x=\"527.369141\" xlink:href=\"#DejaVuSans-32\"/>\n      <use x=\"559.15625\" xlink:href=\"#DejaVuSans-105\"/>\n      <use x=\"586.939453\" xlink:href=\"#DejaVuSans-110\"/>\n      <use x=\"650.318359\" xlink:href=\"#DejaVuSans-99\"/>\n      <use x=\"705.298828\" xlink:href=\"#DejaVuSans-111\"/>\n      <use x=\"766.480469\" xlink:href=\"#DejaVuSans-114\"/>\n      <use x=\"805.84375\" xlink:href=\"#DejaVuSans-114\"/>\n      <use x=\"844.707031\" xlink:href=\"#DejaVuSans-101\"/>\n      <use x=\"906.230469\" xlink:href=\"#DejaVuSans-99\"/>\n      <use x=\"961.210938\" xlink:href=\"#DejaVuSans-116\"/>\n      <use x=\"1000.419922\" xlink:href=\"#DejaVuSans-32\"/>\n      <use x=\"1032.207031\" xlink:href=\"#DejaVuSans-108\"/>\n      <use x=\"1059.990234\" xlink:href=\"#DejaVuSans-97\"/>\n      <use x=\"1121.269531\" xlink:href=\"#DejaVuSans-98\"/>\n      <use x=\"1184.746094\" xlink:href=\"#DejaVuSans-101\"/>\n      <use x=\"1246.269531\" xlink:href=\"#DejaVuSans-108\"/>\n      <use x=\"1274.052734\" xlink:href=\"#DejaVuSans-115\"/>\n      <use x=\"1326.152344\" xlink:href=\"#DejaVuSans-32\"/>\n      <use x=\"1357.939453\" xlink:href=\"#DejaVuSans-40\"/>\n      <use x=\"1396.953125\" xlink:href=\"#DejaVuSans-37\"/>\n      <use x=\"1491.972656\" xlink:href=\"#DejaVuSans-41\"/>\n     </g>\n    </g>\n   </g>\n   <g id=\"line2d_13\">\n    <path clip-path=\"url(#p26f4f02190)\" d=\"M 68.41946 226.08 \nL 101.682268 148.581818 \nL 134.945077 96.218182 \nL 168.207885 62.705455 \nL 201.470693 46.996364 \nL 234.733502 31.287273 \nL 267.99631 28.145455 \nL 301.259118 26.050909 \nL 334.521926 22.909091 \nL 367.784735 19.767273 \nL 400.714915 17.672727 \n\" style=\"fill:none;stroke:#800080;stroke-linecap:square;stroke-width:1.5;\"/>\n    <defs>\n     <path d=\"M 0 3 \nC 0.795609 3 1.55874 2.683901 2.12132 2.12132 \nC 2.683901 1.55874 3 0.795609 3 0 \nC 3 -0.795609 2.683901 -1.55874 2.12132 -2.12132 \nC 1.55874 -2.683901 0.795609 -3 0 -3 \nC -0.795609 -3 -1.55874 -2.683901 -2.12132 -2.12132 \nC -2.683901 -1.55874 -3 -0.795609 -3 0 \nC -3 0.795609 -2.683901 1.55874 -2.12132 2.12132 \nC -1.55874 2.683901 -0.795609 3 0 3 \nz\n\" id=\"m26ec0e3a34\" style=\"stroke:#800080;\"/>\n    </defs>\n    <g clip-path=\"url(#p26f4f02190)\">\n     <use style=\"fill:#800080;stroke:#800080;\" x=\"68.41946\" xlink:href=\"#m26ec0e3a34\" y=\"226.08\"/>\n     <use style=\"fill:#800080;stroke:#800080;\" x=\"101.682268\" xlink:href=\"#m26ec0e3a34\" y=\"148.581818\"/>\n     <use style=\"fill:#800080;stroke:#800080;\" x=\"134.945077\" xlink:href=\"#m26ec0e3a34\" y=\"96.218182\"/>\n     <use style=\"fill:#800080;stroke:#800080;\" x=\"168.207885\" xlink:href=\"#m26ec0e3a34\" y=\"62.705455\"/>\n     <use style=\"fill:#800080;stroke:#800080;\" x=\"201.470693\" xlink:href=\"#m26ec0e3a34\" y=\"46.996364\"/>\n     <use style=\"fill:#800080;stroke:#800080;\" x=\"234.733502\" xlink:href=\"#m26ec0e3a34\" y=\"31.287273\"/>\n     <use style=\"fill:#800080;stroke:#800080;\" x=\"267.99631\" xlink:href=\"#m26ec0e3a34\" y=\"28.145455\"/>\n     <use style=\"fill:#800080;stroke:#800080;\" x=\"301.259118\" xlink:href=\"#m26ec0e3a34\" y=\"26.050909\"/>\n     <use style=\"fill:#800080;stroke:#800080;\" x=\"334.521926\" xlink:href=\"#m26ec0e3a34\" y=\"22.909091\"/>\n     <use style=\"fill:#800080;stroke:#800080;\" x=\"367.784735\" xlink:href=\"#m26ec0e3a34\" y=\"19.767273\"/>\n     <use style=\"fill:#800080;stroke:#800080;\" x=\"400.714915\" xlink:href=\"#m26ec0e3a34\" y=\"17.672727\"/>\n    </g>\n   </g>\n   <g id=\"patch_3\">\n    <path d=\"M 51.804688 237.6 \nL 51.804688 7.2 \n\" style=\"fill:none;stroke:#000000;stroke-linecap:square;stroke-linejoin:miter;stroke-width:0.8;\"/>\n   </g>\n   <g id=\"patch_4\">\n    <path d=\"M 417.329687 237.6 \nL 417.329687 7.2 \n\" style=\"fill:none;stroke:#000000;stroke-linecap:square;stroke-linejoin:miter;stroke-width:0.8;\"/>\n   </g>\n   <g id=\"patch_5\">\n    <path d=\"M 51.804688 237.6 \nL 417.329687 237.6 \n\" style=\"fill:none;stroke:#000000;stroke-linecap:square;stroke-linejoin:miter;stroke-width:0.8;\"/>\n   </g>\n   <g id=\"patch_6\">\n    <path d=\"M 51.804688 7.2 \nL 417.329687 7.2 \n\" style=\"fill:none;stroke:#000000;stroke-linecap:square;stroke-linejoin:miter;stroke-width:0.8;\"/>\n   </g>\n   <g id=\"legend_1\">\n    <g id=\"patch_7\">\n     <path d=\"M 261.11875 230.1 \nL 406.829687 230.1 \nQ 409.829687 230.1 409.829687 227.1 \nL 409.829687 184.565625 \nQ 409.829687 181.565625 406.829687 181.565625 \nL 261.11875 181.565625 \nQ 258.11875 181.565625 258.11875 184.565625 \nL 258.11875 227.1 \nQ 258.11875 230.1 261.11875 230.1 \nz\n\" style=\"fill:#ffffff;opacity:0.8;stroke:#cccccc;stroke-linejoin:miter;\"/>\n    </g>\n    <g id=\"line2d_14\">\n     <path d=\"M 264.11875 193.713281 \nL 294.11875 193.713281 \n\" style=\"fill:none;stroke:#800080;stroke-linecap:square;stroke-width:1.5;\"/>\n    </g>\n    <g id=\"line2d_15\">\n     <g>\n      <use style=\"fill:#800080;stroke:#800080;\" x=\"279.11875\" xlink:href=\"#m26ec0e3a34\" y=\"193.713281\"/>\n     </g>\n    </g>\n    <g id=\"text_15\">\n     <!-- KNN-Shapley -->\n     <g transform=\"translate(306.11875 198.963281)scale(0.15 -0.15)\">\n      <defs>\n       <path d=\"M 9.8125 72.90625 \nL 19.671875 72.90625 \nL 19.671875 42.09375 \nL 52.390625 72.90625 \nL 65.09375 72.90625 \nL 28.90625 38.921875 \nL 67.671875 0 \nL 54.6875 0 \nL 19.671875 35.109375 \nL 19.671875 0 \nL 9.8125 0 \nz\n\" id=\"DejaVuSans-75\"/>\n       <path d=\"M 9.8125 72.90625 \nL 23.09375 72.90625 \nL 55.421875 11.921875 \nL 55.421875 72.90625 \nL 64.984375 72.90625 \nL 64.984375 0 \nL 51.703125 0 \nL 19.390625 60.984375 \nL 19.390625 0 \nL 9.8125 0 \nz\n\" id=\"DejaVuSans-78\"/>\n       <path d=\"M 4.890625 31.390625 \nL 31.203125 31.390625 \nL 31.203125 23.390625 \nL 4.890625 23.390625 \nz\n\" id=\"DejaVuSans-45\"/>\n       <path d=\"M 53.515625 70.515625 \nL 53.515625 60.890625 \nQ 47.90625 63.578125 42.921875 64.890625 \nQ 37.9375 66.21875 33.296875 66.21875 \nQ 25.25 66.21875 20.875 63.09375 \nQ 16.5 59.96875 16.5 54.203125 \nQ 16.5 49.359375 19.40625 46.890625 \nQ 22.3125 44.4375 30.421875 42.921875 \nL 36.375 41.703125 \nQ 47.40625 39.59375 52.65625 34.296875 \nQ 57.90625 29 57.90625 20.125 \nQ 57.90625 9.515625 50.796875 4.046875 \nQ 43.703125 -1.421875 29.984375 -1.421875 \nQ 24.8125 -1.421875 18.96875 -0.25 \nQ 13.140625 0.921875 6.890625 3.21875 \nL 6.890625 13.375 \nQ 12.890625 10.015625 18.65625 8.296875 \nQ 24.421875 6.59375 29.984375 6.59375 \nQ 38.421875 6.59375 43.015625 9.90625 \nQ 47.609375 13.234375 47.609375 19.390625 \nQ 47.609375 24.75 44.3125 27.78125 \nQ 41.015625 30.8125 33.5 32.328125 \nL 27.484375 33.5 \nQ 16.453125 35.6875 11.515625 40.375 \nQ 6.59375 45.0625 6.59375 53.421875 \nQ 6.59375 63.09375 13.40625 68.65625 \nQ 20.21875 74.21875 32.171875 74.21875 \nQ 37.3125 74.21875 42.625 73.28125 \nQ 47.953125 72.359375 53.515625 70.515625 \nz\n\" id=\"DejaVuSans-83\"/>\n       <path d=\"M 54.890625 33.015625 \nL 54.890625 0 \nL 45.90625 0 \nL 45.90625 32.71875 \nQ 45.90625 40.484375 42.875 44.328125 \nQ 39.84375 48.1875 33.796875 48.1875 \nQ 26.515625 48.1875 22.3125 43.546875 \nQ 18.109375 38.921875 18.109375 30.90625 \nL 18.109375 0 \nL 9.078125 0 \nL 9.078125 75.984375 \nL 18.109375 75.984375 \nL 18.109375 46.1875 \nQ 21.34375 51.125 25.703125 53.5625 \nQ 30.078125 56 35.796875 56 \nQ 45.21875 56 50.046875 50.171875 \nQ 54.890625 44.34375 54.890625 33.015625 \nz\n\" id=\"DejaVuSans-104\"/>\n       <path d=\"M 32.171875 -5.078125 \nQ 28.375 -14.84375 24.75 -17.8125 \nQ 21.140625 -20.796875 15.09375 -20.796875 \nL 7.90625 -20.796875 \nL 7.90625 -13.28125 \nL 13.1875 -13.28125 \nQ 16.890625 -13.28125 18.9375 -11.515625 \nQ 21 -9.765625 23.484375 -3.21875 \nL 25.09375 0.875 \nL 2.984375 54.6875 \nL 12.5 54.6875 \nL 29.59375 11.921875 \nL 46.6875 54.6875 \nL 56.203125 54.6875 \nz\n\" id=\"DejaVuSans-121\"/>\n      </defs>\n      <use xlink:href=\"#DejaVuSans-75\"/>\n      <use x=\"65.576172\" xlink:href=\"#DejaVuSans-78\"/>\n      <use x=\"140.380859\" xlink:href=\"#DejaVuSans-78\"/>\n      <use x=\"215.185547\" xlink:href=\"#DejaVuSans-45\"/>\n      <use x=\"251.269531\" xlink:href=\"#DejaVuSans-83\"/>\n      <use x=\"314.746094\" xlink:href=\"#DejaVuSans-104\"/>\n      <use x=\"378.125\" xlink:href=\"#DejaVuSans-97\"/>\n      <use x=\"439.404297\" xlink:href=\"#DejaVuSans-112\"/>\n      <use x=\"502.880859\" xlink:href=\"#DejaVuSans-108\"/>\n      <use x=\"530.664062\" xlink:href=\"#DejaVuSans-101\"/>\n      <use x=\"592.1875\" xlink:href=\"#DejaVuSans-121\"/>\n     </g>\n    </g>\n    <g id=\"line2d_16\">\n     <path d=\"M 264.11875 215.730469 \nL 294.11875 215.730469 \n\" style=\"fill:none;stroke:#ff0000;stroke-dasharray:5.55,2.4;stroke-dashoffset:0;stroke-width:1.5;\"/>\n    </g>\n    <g id=\"line2d_17\"/>\n    <g id=\"text_16\">\n     <!-- Random -->\n     <g transform=\"translate(306.11875 220.980469)scale(0.15 -0.15)\">\n      <defs>\n       <path d=\"M 44.390625 34.1875 \nQ 47.5625 33.109375 50.5625 29.59375 \nQ 53.5625 26.078125 56.59375 19.921875 \nL 66.609375 0 \nL 56 0 \nL 46.6875 18.703125 \nQ 43.0625 26.03125 39.671875 28.421875 \nQ 36.28125 30.8125 30.421875 30.8125 \nL 19.671875 30.8125 \nL 19.671875 0 \nL 9.8125 0 \nL 9.8125 72.90625 \nL 32.078125 72.90625 \nQ 44.578125 72.90625 50.734375 67.671875 \nQ 56.890625 62.453125 56.890625 51.90625 \nQ 56.890625 45.015625 53.6875 40.46875 \nQ 50.484375 35.9375 44.390625 34.1875 \nz\nM 19.671875 64.796875 \nL 19.671875 38.921875 \nL 32.078125 38.921875 \nQ 39.203125 38.921875 42.84375 42.21875 \nQ 46.484375 45.515625 46.484375 51.90625 \nQ 46.484375 58.296875 42.84375 61.546875 \nQ 39.203125 64.796875 32.078125 64.796875 \nz\n\" id=\"DejaVuSans-82\"/>\n       <path d=\"M 52 44.1875 \nQ 55.375 50.25 60.0625 53.125 \nQ 64.75 56 71.09375 56 \nQ 79.640625 56 84.28125 50.015625 \nQ 88.921875 44.046875 88.921875 33.015625 \nL 88.921875 0 \nL 79.890625 0 \nL 79.890625 32.71875 \nQ 79.890625 40.578125 77.09375 44.375 \nQ 74.3125 48.1875 68.609375 48.1875 \nQ 61.625 48.1875 57.5625 43.546875 \nQ 53.515625 38.921875 53.515625 30.90625 \nL 53.515625 0 \nL 44.484375 0 \nL 44.484375 32.71875 \nQ 44.484375 40.625 41.703125 44.40625 \nQ 38.921875 48.1875 33.109375 48.1875 \nQ 26.21875 48.1875 22.15625 43.53125 \nQ 18.109375 38.875 18.109375 30.90625 \nL 18.109375 0 \nL 9.078125 0 \nL 9.078125 54.6875 \nL 18.109375 54.6875 \nL 18.109375 46.1875 \nQ 21.1875 51.21875 25.484375 53.609375 \nQ 29.78125 56 35.6875 56 \nQ 41.65625 56 45.828125 52.96875 \nQ 50 49.953125 52 44.1875 \nz\n\" id=\"DejaVuSans-109\"/>\n      </defs>\n      <use xlink:href=\"#DejaVuSans-82\"/>\n      <use x=\"67.232422\" xlink:href=\"#DejaVuSans-97\"/>\n      <use x=\"128.511719\" xlink:href=\"#DejaVuSans-110\"/>\n      <use x=\"191.890625\" xlink:href=\"#DejaVuSans-100\"/>\n      <use x=\"255.367188\" xlink:href=\"#DejaVuSans-111\"/>\n      <use x=\"316.548828\" xlink:href=\"#DejaVuSans-109\"/>\n     </g>\n    </g>\n   </g>\n   <g id=\"line2d_18\">\n    <path clip-path=\"url(#p26f4f02190)\" d=\"M 68.41946 227.127273 \nL 101.682268 205.134545 \nL 134.945077 184.189091 \nL 168.207885 168.48 \nL 201.470693 140.203636 \nL 234.733502 121.352727 \nL 267.99631 101.454545 \nL 301.259118 84.698182 \nL 334.521926 60.610909 \nL 367.784735 40.712727 \nL 400.714915 17.672727 \n\" style=\"fill:none;stroke:#ff0000;stroke-dasharray:5.55,2.4;stroke-dashoffset:0;stroke-width:1.5;\"/>\n   </g>\n  </g>\n </g>\n <defs>\n  <clipPath id=\"p26f4f02190\">\n   <rect height=\"230.4\" width=\"365.525\" x=\"51.804688\" y=\"7.2\"/>\n  </clipPath>\n </defs>\n</svg>\n",
      "image/png": "[encoded data removed]"
     },
     "metadata": {
      "needs_background": "light"
     }
    }
   ],
   "source": [
    "from models.resnet import ResNet\n",
    "from shapley.dshap import DShap \n",
    "from utils.dataset import FashionMNISTDataModule\n",
    "from shapley.knn_shapley import KNNShapley\n",
    "from utils.plotter import LabelPlotter\n",
    "\n",
    "dm = FashionMNISTDataModule() \n",
    "dm.setup() \n",
    "\n",
    "model = ResNet()\n",
    "\n",
    "measure = KNNShapley()\n",
    "\n",
    "dshap = DShap(dm, model, measure=measure, device=\"cuda\")\n",
    "scores = dshap.run() \n",
    "\n",
    "plotter = LabelPlotter(dm, (\"KNN-Shapley\", scores))\n",
    "plotter.plot()"
   ]
  }
 ]
}